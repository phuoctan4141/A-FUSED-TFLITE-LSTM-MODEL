{
  "cells": [
    {
      "cell_type": "markdown",
      "metadata": {
        "id": "GCX-2HD46_cA"
      },
      "source": [
        "## Setup"
      ]
    },
    {
      "cell_type": "code",
      "source": [
        "!pip install tflite-support\n"
      ],
      "metadata": {
        "id": "YfT9e1nXDwer",
        "colab": {
          "base_uri": "https://localhost:8080/",
          "height": 453
        },
        "outputId": "84d3d424-3a2e-482f-b607-e0cd6d13db65"
      },
      "execution_count": 23,
      "outputs": [
        {
          "output_type": "stream",
          "name": "stdout",
          "text": [
            "Collecting tflite-support\n",
            "  Downloading tflite_support-0.3.1-cp37-cp37m-manylinux_2_12_x86_64.manylinux2010_x86_64.whl (1.1 MB)\n",
            "\u001b[K     |████████████████████████████████| 1.1 MB 5.3 MB/s \n",
            "\u001b[?25hCollecting pybind11>=2.6.0\n",
            "  Downloading pybind11-2.9.1-py2.py3-none-any.whl (211 kB)\n",
            "\u001b[K     |████████████████████████████████| 211 kB 50.3 MB/s \n",
            "\u001b[?25hRequirement already satisfied: numpy>=1.19.2 in /usr/local/lib/python3.7/dist-packages (from tflite-support) (1.21.5)\n",
            "Requirement already satisfied: absl-py>=0.7.0 in /usr/local/lib/python3.7/dist-packages (from tflite-support) (1.0.0)\n",
            "Collecting flatbuffers<2,>=1.12\n",
            "  Downloading flatbuffers-1.12-py2.py3-none-any.whl (15 kB)\n",
            "Requirement already satisfied: six in /usr/local/lib/python3.7/dist-packages (from absl-py>=0.7.0->tflite-support) (1.15.0)\n",
            "Installing collected packages: pybind11, flatbuffers, tflite-support\n",
            "  Attempting uninstall: flatbuffers\n",
            "    Found existing installation: flatbuffers 2.0\n",
            "    Uninstalling flatbuffers-2.0:\n",
            "      Successfully uninstalled flatbuffers-2.0\n",
            "\u001b[31mERROR: pip's dependency resolver does not currently take into account all the packages that are installed. This behaviour is the source of the following dependency conflicts.\n",
            "tensorflow 2.8.0 requires tf-estimator-nightly==2.8.0.dev2021122109, which is not installed.\u001b[0m\n",
            "Successfully installed flatbuffers-1.12 pybind11-2.9.1 tflite-support-0.3.1\n"
          ]
        },
        {
          "output_type": "display_data",
          "data": {
            "application/vnd.colab-display-data+json": {
              "pip_warning": {
                "packages": [
                  "flatbuffers"
                ]
              }
            }
          },
          "metadata": {}
        }
      ]
    },
    {
      "cell_type": "code",
      "execution_count": 2,
      "metadata": {
        "id": "y0UHrT9-6_cK"
      },
      "outputs": [],
      "source": [
        "import pandas as pd\n",
        "import numpy as np\n",
        "import matplotlib.pyplot as plt\n",
        "import seaborn as sns\n",
        "import tensorflow as tf\n",
        "from scipy import stats\n",
        "from sklearn import metrics\n",
        "\n",
        "%matplotlib inline\n",
        "\n",
        "import warnings\n",
        "warnings.filterwarnings('ignore')\n"
      ]
    },
    {
      "cell_type": "code",
      "execution_count": 3,
      "metadata": {
        "colab": {
          "base_uri": "https://localhost:8080/"
        },
        "id": "RYWdlttO6_cO",
        "outputId": "0fa2719d-60d3-4c1c-e382-b2bb9c857226"
      },
      "outputs": [
        {
          "output_type": "stream",
          "name": "stdout",
          "text": [
            "Default GPU Device: /device:GPU:0\n"
          ]
        }
      ],
      "source": [
        "# Check if GPU is available\n",
        "if tf.test.gpu_device_name():\n",
        "    print('Default GPU Device: {}'.format(tf.test.gpu_device_name()))\n",
        "else:\n",
        "    print(\"Please install GPU version of TF\")\n",
        "    "
      ]
    },
    {
      "cell_type": "markdown",
      "metadata": {
        "id": "sLLg1xP46_cS"
      },
      "source": [
        "## Loading and preparing train and test data"
      ]
    },
    {
      "cell_type": "markdown",
      "metadata": {
        "id": "rJFR8ERM6_cU"
      },
      "source": [
        "We use \"Sensors Activity Dataset\" by Shoaib et al. which is available for download from [here](https://www.utwente.nl/en/eemcs/ps/research/dataset/).\n",
        "There are 7 activities in this dataset: Biking, Downstairs, Jogging, Sitting, Standing, Upstairs, Walking. \n",
        "There were ten participants involved in data collection experiment who performed  each of these activities for 3-4 minutes.\n",
        "All ten participants were male, between the ages of 25 and 30. \n",
        "Each of these participants was equipped with five smartphones on five body positions: \n",
        "\n",
        "1. One in their right jean’s pocket. \n",
        "2. One in their left jean’s pocket.\n",
        "3. One on belt position towards the right leg using a belt clipper.\n",
        "4. One on the right upper arm. \n",
        "5. One on the right wrist.\n",
        "\n",
        "The data was collected for an accelerometer, a gyroscope, a magnetometer, and a linear acceleration sensor. \n",
        "Each csv file contains data for each participant's seven physical activities for all five positions. \n",
        "\n",
        "Notation in these files: \n",
        "\n",
        "Accelerometer ( Ax = x-axis, Ay = y-axis, Az= Z-aixs)   \n",
        "Linear Acceleration Sensor ( Lx = x-axis, Ly = y axis, Lz= Z-aixs)   \n",
        "Gyroscope ( Gx = x-axis, Gy = y-axis, Gz= Z-aixs)   \n",
        "Magnetometer ( Mx = x-axis, My = y-axis, Mz= Z-aixs) "
      ]
    },
    {
      "cell_type": "code",
      "execution_count": 4,
      "metadata": {
        "colab": {
          "base_uri": "https://localhost:8080/"
        },
        "id": "qnT48GHe6_cW",
        "outputId": "97f7b1f0-5643-4a31-dddd-e802f29adb14"
      },
      "outputs": [
        {
          "output_type": "stream",
          "name": "stdout",
          "text": [
            "--2022-02-22 06:11:15--  https://www.utwente.nl/en/eemcs/ps/dataset-folder/sensors-activity-recognition-dataset-shoaib.rar\n",
            "Resolving www.utwente.nl (www.utwente.nl)... 130.89.3.249, 2001:67c:2564:a102::1:1\n",
            "Connecting to www.utwente.nl (www.utwente.nl)|130.89.3.249|:443... connected.\n",
            "HTTP request sent, awaiting response... 200 OK\n",
            "Length: 100080442 (95M) [application/x-rar-compressed]\n",
            "Saving to: ‘../data/sensors-activity-recognition-dataset-shoaib.rar.1’\n",
            "\n",
            "sensors-activity-re 100%[===================>]  95.44M  22.9MB/s    in 4.2s    \n",
            "\n",
            "2022-02-22 06:11:20 (22.9 MB/s) - ‘../data/sensors-activity-recognition-dataset-shoaib.rar.1’ saved [100080442/100080442]\n",
            "\n",
            "Requirement already satisfied: unrar in /usr/local/lib/python3.7/dist-packages (0.4)\n",
            "\n",
            "UNRAR 5.50 freeware      Copyright (c) 1993-2017 Alexander Roshal\n",
            "\n",
            "\n",
            "Extracting from ../data/sensors-activity-recognition-dataset-shoaib.rar\n",
            "\n",
            "\n",
            "Would you like to replace the existing file ../data/Participant_1.csv\n",
            "32372897 bytes, modified on 2014-03-31 14:45\n",
            "with a new one\n",
            "32372897 bytes, modified on 2014-03-31 14:45\n",
            "\n",
            "[Y]es, [N]o, [A]ll, n[E]ver, [R]ename, [Q]uit A\n",
            "\n",
            "Extracting  ../data/Participant_1.csv                                    \b\b\b\b  0%\b\b\b\b  1%\b\b\b\b  2%\b\b\b\b  3%\b\b\b\b  4%\b\b\b\b  5%\b\b\b\b  6%\b\b\b\b  7%\b\b\b\b  8%\b\b\b\b  9%A\n",
            "\b\b\b\b 10%\b\b\b\b\b  OK \n",
            "Extracting  ../data/Participant_10.csv                                   \b\b\b\b 10%\b\b\b\b 11%\b\b\b\b 12%\b\b\b\b 13%\b\b\b\b 14%\b\b\b\b 15%\b\b\b\b 16%\b\b\b\b 17%\b\b\b\b 18%\b\b\b\b 19%\b\b\b\b 20%\b\b\b\b\b  OK \n",
            "Extracting  ../data/Participant_2.csv                                    \b\b\b\b 20%\b\b\b\b 21%\b\b\b\b 22%\b\b\b\b 23%\b\b\b\b 24%\b\b\b\b 25%\b\b\b\b 26%\b\b\b\b 27%\b\b\b\b 28%\b\b\b\b 29%\b\b\b\b 30%\b\b\b\b\b  OK \n",
            "Extracting  ../data/Participant_3.csv                                    \b\b\b\b 30%\b\b\b\b 31%\b\b\b\b 32%\b\b\b\b 33%\b\b\b\b 34%\b\b\b\b 35%\b\b\b\b 36%\b\b\b\b 37%\b\b\b\b 38%\b\b\b\b 39%\b\b\b\b\b  OK \n",
            "Extracting  ../data/Participant_4.csv                                    \b\b\b\b 39%\b\b\b\b 40%\b\b\b\b 41%\b\b\b\b 42%\b\b\b\b 43%\b\b\b\b 44%\b\b\b\b 45%\b\b\b\b 46%\b\b\b\b 47%\b\b\b\b 48%\b\b\b\b 49%\b\b\b\b\b  OK \n",
            "Extracting  ../data/Participant_5.csv                                    \b\b\b\b 49%\b\b\b\b 50%\b\b\b\b 51%\b\b\b\b 52%\b\b\b\b 53%\b\b\b\b 54%\b\b\b\b 55%\b\b\b\b 56%\b\b\b\b 57%\b\b\b\b 58%\b\b\b\b 59%\b\b\b\b 60%\b\b\b\b\b  OK \n",
            "Extracting  ../data/Participant_6.csv                                    \b\b\b\b 60%\b\b\b\b 61%\b\b\b\b 62%\b\b\b\b 63%\b\b\b\b 64%\b\b\b\b 65%\b\b\b\b 66%\b\b\b\b 67%\b\b\b\b 68%\b\b\b\b 69%\b\b\b\b\b  OK \n",
            "Extracting  ../data/Participant_7.csv                                    \b\b\b\b 69%\b\b\b\b 70%\b\b\b\b 71%\b\b\b\b 72%\b\b\b\b 73%\b\b\b\b 74%\b\b\b\b 75%\b\b\b\b 76%\b\b\b\b 77%\b\b\b\b 78%\b\b\b\b 79%\b\b\b\b\b  OK \n",
            "Extracting  ../data/Participant_8.csv                                    \b\b\b\b 79%\b\b\b\b 80%\b\b\b\b 81%\b\b\b\b 82%\b\b\b\b 83%\b\b\b\b 84%\b\b\b\b 85%\b\b\b\b 86%\b\b\b\b 87%\b\b\b\b 88%\b\b\b\b 89%\b\b\b\b\b  OK \n",
            "Extracting  ../data/Participant_9.csv                                    \b\b\b\b 89%\b\b\b\b 90%\b\b\b\b 91%\b\b\b\b 92%\b\b\b\b 93%\b\b\b\b 94%\b\b\b\b 95%\b\b\b\b 96%\b\b\b\b 97%\b\b\b\b 98%\b\b\b\b 99%\b\b\b\b\b  OK \n",
            "Extracting  ../data/Readme.txt                                           \b\b\b\b 99%\b\b\b\b\b  OK \n",
            "All OK\n"
          ]
        }
      ],
      "source": [
        "# Download dataset\n",
        "! wget https://www.utwente.nl/en/eemcs/ps/dataset-folder/sensors-activity-recognition-dataset-shoaib.rar -P ../data/\n",
        "\n",
        "# Extract dataset using unrar\n",
        "!pip install unrar\n",
        "!unrar e ../data/sensors-activity-recognition-dataset-shoaib.rar ../data/\n"
      ]
    },
    {
      "cell_type": "markdown",
      "metadata": {
        "id": "yxitAgo76_cY"
      },
      "source": [
        "## Loading and preparing train and test data"
      ]
    },
    {
      "cell_type": "markdown",
      "metadata": {
        "id": "pIeAZ0IT6_cZ"
      },
      "source": [
        "We load all 10 participants data into a single dataframe:\n"
      ]
    },
    {
      "cell_type": "code",
      "execution_count": 5,
      "metadata": {
        "colab": {
          "base_uri": "https://localhost:8080/",
          "height": 288
        },
        "id": "uIhcKKsh6_cb",
        "outputId": "49c3b688-15ef-483e-8455-b6bbd5fac1c1"
      },
      "outputs": [
        {
          "output_type": "execute_result",
          "data": {
            "text/html": [
              "\n",
              "  <div id=\"df-43ef62e5-d969-403a-938e-e44c5d9c43dc\">\n",
              "    <div class=\"colab-df-container\">\n",
              "      <div>\n",
              "<style scoped>\n",
              "    .dataframe tbody tr th:only-of-type {\n",
              "        vertical-align: middle;\n",
              "    }\n",
              "\n",
              "    .dataframe tbody tr th {\n",
              "        vertical-align: top;\n",
              "    }\n",
              "\n",
              "    .dataframe thead th {\n",
              "        text-align: right;\n",
              "    }\n",
              "</style>\n",
              "<table border=\"1\" class=\"dataframe\">\n",
              "  <thead>\n",
              "    <tr style=\"text-align: right;\">\n",
              "      <th></th>\n",
              "      <th>time_stamp</th>\n",
              "      <th>Ax</th>\n",
              "      <th>Ay</th>\n",
              "      <th>Az</th>\n",
              "      <th>Lx</th>\n",
              "      <th>Ly</th>\n",
              "      <th>Lz</th>\n",
              "      <th>Gx</th>\n",
              "      <th>Gy</th>\n",
              "      <th>Gz</th>\n",
              "      <th>Mx</th>\n",
              "      <th>My</th>\n",
              "      <th>Mz</th>\n",
              "      <th>Unnamed: 13</th>\n",
              "      <th>time_stamp.1</th>\n",
              "      <th>Ax.1</th>\n",
              "      <th>Ay.1</th>\n",
              "      <th>Az.1</th>\n",
              "      <th>Lx.1</th>\n",
              "      <th>Ly.1</th>\n",
              "      <th>Lz.1</th>\n",
              "      <th>Gx.1</th>\n",
              "      <th>Gy.1</th>\n",
              "      <th>Gz.1</th>\n",
              "      <th>Mx.1</th>\n",
              "      <th>My.1</th>\n",
              "      <th>Mz.1</th>\n",
              "      <th>Unnamed: 27</th>\n",
              "      <th>time_stamp.2</th>\n",
              "      <th>Ax.2</th>\n",
              "      <th>Ay.2</th>\n",
              "      <th>Az.2</th>\n",
              "      <th>Lx.2</th>\n",
              "      <th>Ly.2</th>\n",
              "      <th>Lz.2</th>\n",
              "      <th>Gx.2</th>\n",
              "      <th>Gy.2</th>\n",
              "      <th>Gz.2</th>\n",
              "      <th>Mx.2</th>\n",
              "      <th>My.2</th>\n",
              "      <th>Mz.2</th>\n",
              "      <th>Unnamed: 41</th>\n",
              "      <th>time_stamp.3</th>\n",
              "      <th>Ax.3</th>\n",
              "      <th>Ay.3</th>\n",
              "      <th>Az.3</th>\n",
              "      <th>Lx.3</th>\n",
              "      <th>Ly.3</th>\n",
              "      <th>Lz.3</th>\n",
              "      <th>Gx.3</th>\n",
              "      <th>Gy.3</th>\n",
              "      <th>Gz.3</th>\n",
              "      <th>Mx.3</th>\n",
              "      <th>My.3</th>\n",
              "      <th>Mz.3</th>\n",
              "      <th>Unnamed: 55</th>\n",
              "      <th>time_stamp.4</th>\n",
              "      <th>Ax.4</th>\n",
              "      <th>Ay.4</th>\n",
              "      <th>Az.4</th>\n",
              "      <th>Lx.4</th>\n",
              "      <th>Ly.4</th>\n",
              "      <th>Lz.4</th>\n",
              "      <th>Gx.4</th>\n",
              "      <th>Gy.4</th>\n",
              "      <th>Gz.4</th>\n",
              "      <th>Mx.4</th>\n",
              "      <th>My.4</th>\n",
              "      <th>Mz.4</th>\n",
              "      <th>Unnamed: 69</th>\n",
              "    </tr>\n",
              "  </thead>\n",
              "  <tbody>\n",
              "    <tr>\n",
              "      <th>0</th>\n",
              "      <td>1.390000e+12</td>\n",
              "      <td>-1.81150</td>\n",
              "      <td>-14.873</td>\n",
              "      <td>-1.34840</td>\n",
              "      <td>-1.26910</td>\n",
              "      <td>-5.1057</td>\n",
              "      <td>-0.66445</td>\n",
              "      <td>-0.53206</td>\n",
              "      <td>-3.18690</td>\n",
              "      <td>0.23976</td>\n",
              "      <td>12.72</td>\n",
              "      <td>40.74</td>\n",
              "      <td>-6.00</td>\n",
              "      <td>NaN</td>\n",
              "      <td>1.390000e+12</td>\n",
              "      <td>-1.19860</td>\n",
              "      <td>-13.852</td>\n",
              "      <td>3.7865</td>\n",
              "      <td>-1.76980</td>\n",
              "      <td>-4.0625</td>\n",
              "      <td>3.89850</td>\n",
              "      <td>-3.6255</td>\n",
              "      <td>1.07390</td>\n",
              "      <td>0.13622</td>\n",
              "      <td>18.84</td>\n",
              "      <td>55.92</td>\n",
              "      <td>-6.72</td>\n",
              "      <td>NaN</td>\n",
              "      <td>1.390000e+12</td>\n",
              "      <td>0.17706</td>\n",
              "      <td>-10.569</td>\n",
              "      <td>1.8251</td>\n",
              "      <td>-7.5051</td>\n",
              "      <td>-4.7736</td>\n",
              "      <td>-0.062476</td>\n",
              "      <td>-0.36652</td>\n",
              "      <td>1.27060</td>\n",
              "      <td>-0.52412</td>\n",
              "      <td>-30.30</td>\n",
              "      <td>31.08</td>\n",
              "      <td>3.96</td>\n",
              "      <td>NaN</td>\n",
              "      <td>1.390000e+12</td>\n",
              "      <td>2.79220</td>\n",
              "      <td>-12.5720</td>\n",
              "      <td>-4.3177</td>\n",
              "      <td>-0.098712</td>\n",
              "      <td>-3.385700</td>\n",
              "      <td>-2.46480</td>\n",
              "      <td>0.021075</td>\n",
              "      <td>1.02990</td>\n",
              "      <td>1.22690</td>\n",
              "      <td>-18.72</td>\n",
              "      <td>31.74</td>\n",
              "      <td>17.82</td>\n",
              "      <td>NaN</td>\n",
              "      <td>1.390000e+12</td>\n",
              "      <td>4.3177</td>\n",
              "      <td>-2.36990</td>\n",
              "      <td>-0.43585</td>\n",
              "      <td>-5.3574</td>\n",
              "      <td>-0.95749</td>\n",
              "      <td>0.318860</td>\n",
              "      <td>0.52565</td>\n",
              "      <td>-0.18815</td>\n",
              "      <td>0.285880</td>\n",
              "      <td>-22.20</td>\n",
              "      <td>6.48</td>\n",
              "      <td>4.56</td>\n",
              "      <td>walking</td>\n",
              "    </tr>\n",
              "    <tr>\n",
              "      <th>1</th>\n",
              "      <td>1.390000e+12</td>\n",
              "      <td>0.24517</td>\n",
              "      <td>-14.070</td>\n",
              "      <td>-0.84446</td>\n",
              "      <td>0.70147</td>\n",
              "      <td>-4.2969</td>\n",
              "      <td>-0.17199</td>\n",
              "      <td>-0.25229</td>\n",
              "      <td>-1.79660</td>\n",
              "      <td>0.40745</td>\n",
              "      <td>12.54</td>\n",
              "      <td>40.74</td>\n",
              "      <td>-6.78</td>\n",
              "      <td>NaN</td>\n",
              "      <td>1.390000e+12</td>\n",
              "      <td>-2.38360</td>\n",
              "      <td>-16.590</td>\n",
              "      <td>2.9965</td>\n",
              "      <td>-2.70250</td>\n",
              "      <td>-6.7890</td>\n",
              "      <td>2.86820</td>\n",
              "      <td>-3.4899</td>\n",
              "      <td>0.39034</td>\n",
              "      <td>0.40073</td>\n",
              "      <td>18.60</td>\n",
              "      <td>55.86</td>\n",
              "      <td>-6.06</td>\n",
              "      <td>NaN</td>\n",
              "      <td>1.390000e+12</td>\n",
              "      <td>0.16344</td>\n",
              "      <td>-12.190</td>\n",
              "      <td>2.0703</td>\n",
              "      <td>-7.3573</td>\n",
              "      <td>-6.2618</td>\n",
              "      <td>-0.042442</td>\n",
              "      <td>-0.54459</td>\n",
              "      <td>1.28070</td>\n",
              "      <td>0.34025</td>\n",
              "      <td>-31.02</td>\n",
              "      <td>29.88</td>\n",
              "      <td>3.36</td>\n",
              "      <td>NaN</td>\n",
              "      <td>1.390000e+12</td>\n",
              "      <td>2.38360</td>\n",
              "      <td>-10.9920</td>\n",
              "      <td>-4.6037</td>\n",
              "      <td>-0.404440</td>\n",
              "      <td>-1.774500</td>\n",
              "      <td>-2.74830</td>\n",
              "      <td>0.201890</td>\n",
              "      <td>0.53573</td>\n",
              "      <td>1.32280</td>\n",
              "      <td>-18.84</td>\n",
              "      <td>31.74</td>\n",
              "      <td>17.70</td>\n",
              "      <td>NaN</td>\n",
              "      <td>1.390000e+12</td>\n",
              "      <td>5.1213</td>\n",
              "      <td>-2.19290</td>\n",
              "      <td>-0.70826</td>\n",
              "      <td>-4.5352</td>\n",
              "      <td>-0.67629</td>\n",
              "      <td>0.081656</td>\n",
              "      <td>0.43616</td>\n",
              "      <td>0.16371</td>\n",
              "      <td>0.198230</td>\n",
              "      <td>-21.90</td>\n",
              "      <td>7.14</td>\n",
              "      <td>5.34</td>\n",
              "      <td>walking</td>\n",
              "    </tr>\n",
              "    <tr>\n",
              "      <th>2</th>\n",
              "      <td>1.390000e+12</td>\n",
              "      <td>-0.57205</td>\n",
              "      <td>-14.628</td>\n",
              "      <td>-1.75700</td>\n",
              "      <td>-0.21760</td>\n",
              "      <td>-4.8531</td>\n",
              "      <td>-1.05650</td>\n",
              "      <td>-1.04920</td>\n",
              "      <td>0.29138</td>\n",
              "      <td>0.29230</td>\n",
              "      <td>12.42</td>\n",
              "      <td>40.68</td>\n",
              "      <td>-8.10</td>\n",
              "      <td>NaN</td>\n",
              "      <td>1.390000e+12</td>\n",
              "      <td>-4.63090</td>\n",
              "      <td>-16.603</td>\n",
              "      <td>2.0703</td>\n",
              "      <td>-4.34550</td>\n",
              "      <td>-6.8081</td>\n",
              "      <td>1.68890</td>\n",
              "      <td>-3.3851</td>\n",
              "      <td>-1.99200</td>\n",
              "      <td>1.12280</td>\n",
              "      <td>18.72</td>\n",
              "      <td>55.80</td>\n",
              "      <td>-4.26</td>\n",
              "      <td>NaN</td>\n",
              "      <td>1.390000e+12</td>\n",
              "      <td>0.57205</td>\n",
              "      <td>-12.626</td>\n",
              "      <td>2.2474</td>\n",
              "      <td>-6.7655</td>\n",
              "      <td>-6.5138</td>\n",
              "      <td>0.017921</td>\n",
              "      <td>-0.70952</td>\n",
              "      <td>1.15820</td>\n",
              "      <td>0.99724</td>\n",
              "      <td>-31.26</td>\n",
              "      <td>29.22</td>\n",
              "      <td>3.24</td>\n",
              "      <td>NaN</td>\n",
              "      <td>1.390000e+12</td>\n",
              "      <td>1.56630</td>\n",
              "      <td>-9.0848</td>\n",
              "      <td>-4.5764</td>\n",
              "      <td>-1.003600</td>\n",
              "      <td>0.201530</td>\n",
              "      <td>-2.75150</td>\n",
              "      <td>0.287720</td>\n",
              "      <td>0.10049</td>\n",
              "      <td>1.20710</td>\n",
              "      <td>-19.02</td>\n",
              "      <td>31.68</td>\n",
              "      <td>17.52</td>\n",
              "      <td>NaN</td>\n",
              "      <td>1.390000e+12</td>\n",
              "      <td>5.6116</td>\n",
              "      <td>-2.12480</td>\n",
              "      <td>-1.26670</td>\n",
              "      <td>-4.0408</td>\n",
              "      <td>-0.55974</td>\n",
              "      <td>-0.523690</td>\n",
              "      <td>0.32284</td>\n",
              "      <td>0.43127</td>\n",
              "      <td>0.211970</td>\n",
              "      <td>-21.60</td>\n",
              "      <td>7.50</td>\n",
              "      <td>5.64</td>\n",
              "      <td>walking</td>\n",
              "    </tr>\n",
              "    <tr>\n",
              "      <th>3</th>\n",
              "      <td>1.390000e+12</td>\n",
              "      <td>-0.69464</td>\n",
              "      <td>-12.939</td>\n",
              "      <td>-3.09180</td>\n",
              "      <td>-0.32273</td>\n",
              "      <td>-3.1786</td>\n",
              "      <td>-2.21970</td>\n",
              "      <td>-2.37200</td>\n",
              "      <td>1.00820</td>\n",
              "      <td>0.34972</td>\n",
              "      <td>12.30</td>\n",
              "      <td>40.74</td>\n",
              "      <td>-8.52</td>\n",
              "      <td>NaN</td>\n",
              "      <td>1.390000e+12</td>\n",
              "      <td>-4.78070</td>\n",
              "      <td>-16.453</td>\n",
              "      <td>1.1577</td>\n",
              "      <td>-4.19540</td>\n",
              "      <td>-6.6731</td>\n",
              "      <td>0.74084</td>\n",
              "      <td>-3.1017</td>\n",
              "      <td>-3.04390</td>\n",
              "      <td>0.79138</td>\n",
              "      <td>18.84</td>\n",
              "      <td>55.62</td>\n",
              "      <td>-3.12</td>\n",
              "      <td>NaN</td>\n",
              "      <td>1.390000e+12</td>\n",
              "      <td>1.21220</td>\n",
              "      <td>-12.476</td>\n",
              "      <td>2.2882</td>\n",
              "      <td>-5.9716</td>\n",
              "      <td>-6.1990</td>\n",
              "      <td>0.016760</td>\n",
              "      <td>-0.78191</td>\n",
              "      <td>1.10200</td>\n",
              "      <td>1.33380</td>\n",
              "      <td>-31.44</td>\n",
              "      <td>28.80</td>\n",
              "      <td>3.24</td>\n",
              "      <td>NaN</td>\n",
              "      <td>1.390000e+12</td>\n",
              "      <td>-0.61292</td>\n",
              "      <td>-8.5263</td>\n",
              "      <td>-2.9284</td>\n",
              "      <td>-2.827100</td>\n",
              "      <td>0.859490</td>\n",
              "      <td>-1.14670</td>\n",
              "      <td>0.175930</td>\n",
              "      <td>-0.21441</td>\n",
              "      <td>0.90469</td>\n",
              "      <td>-18.96</td>\n",
              "      <td>31.86</td>\n",
              "      <td>17.22</td>\n",
              "      <td>NaN</td>\n",
              "      <td>1.390000e+12</td>\n",
              "      <td>6.0611</td>\n",
              "      <td>-1.47100</td>\n",
              "      <td>-2.47890</td>\n",
              "      <td>-3.5908</td>\n",
              "      <td>0.15795</td>\n",
              "      <td>-1.880200</td>\n",
              "      <td>0.20403</td>\n",
              "      <td>0.72846</td>\n",
              "      <td>0.164930</td>\n",
              "      <td>-21.12</td>\n",
              "      <td>8.40</td>\n",
              "      <td>6.12</td>\n",
              "      <td>walking</td>\n",
              "    </tr>\n",
              "    <tr>\n",
              "      <th>4</th>\n",
              "      <td>1.390000e+12</td>\n",
              "      <td>0.87170</td>\n",
              "      <td>-12.000</td>\n",
              "      <td>-1.56630</td>\n",
              "      <td>1.13740</td>\n",
              "      <td>-2.2390</td>\n",
              "      <td>-0.65476</td>\n",
              "      <td>-2.79010</td>\n",
              "      <td>0.65485</td>\n",
              "      <td>0.22724</td>\n",
              "      <td>12.24</td>\n",
              "      <td>40.80</td>\n",
              "      <td>-8.88</td>\n",
              "      <td>NaN</td>\n",
              "      <td>1.390000e+12</td>\n",
              "      <td>-0.92618</td>\n",
              "      <td>-12.190</td>\n",
              "      <td>-1.0624</td>\n",
              "      <td>-0.18116</td>\n",
              "      <td>-2.4144</td>\n",
              "      <td>-1.28500</td>\n",
              "      <td>-2.7587</td>\n",
              "      <td>-4.46020</td>\n",
              "      <td>0.69364</td>\n",
              "      <td>19.38</td>\n",
              "      <td>55.44</td>\n",
              "      <td>-0.84</td>\n",
              "      <td>NaN</td>\n",
              "      <td>1.390000e+12</td>\n",
              "      <td>2.24740</td>\n",
              "      <td>-11.387</td>\n",
              "      <td>1.9886</td>\n",
              "      <td>-4.6603</td>\n",
              "      <td>-4.8230</td>\n",
              "      <td>-0.329740</td>\n",
              "      <td>-0.82436</td>\n",
              "      <td>0.90561</td>\n",
              "      <td>2.15600</td>\n",
              "      <td>-31.56</td>\n",
              "      <td>28.32</td>\n",
              "      <td>3.30</td>\n",
              "      <td>NaN</td>\n",
              "      <td>1.390000e+12</td>\n",
              "      <td>-1.18500</td>\n",
              "      <td>-9.3436</td>\n",
              "      <td>-2.2337</td>\n",
              "      <td>-3.209900</td>\n",
              "      <td>0.085583</td>\n",
              "      <td>-0.45569</td>\n",
              "      <td>-0.033292</td>\n",
              "      <td>-0.48625</td>\n",
              "      <td>0.60720</td>\n",
              "      <td>-18.84</td>\n",
              "      <td>32.10</td>\n",
              "      <td>17.04</td>\n",
              "      <td>NaN</td>\n",
              "      <td>1.390000e+12</td>\n",
              "      <td>7.7091</td>\n",
              "      <td>-0.77636</td>\n",
              "      <td>-3.54130</td>\n",
              "      <td>-1.9450</td>\n",
              "      <td>0.85796</td>\n",
              "      <td>-2.995300</td>\n",
              "      <td>0.09896</td>\n",
              "      <td>0.94379</td>\n",
              "      <td>0.064752</td>\n",
              "      <td>-20.94</td>\n",
              "      <td>8.70</td>\n",
              "      <td>6.30</td>\n",
              "      <td>walking</td>\n",
              "    </tr>\n",
              "  </tbody>\n",
              "</table>\n",
              "</div>\n",
              "      <button class=\"colab-df-convert\" onclick=\"convertToInteractive('df-43ef62e5-d969-403a-938e-e44c5d9c43dc')\"\n",
              "              title=\"Convert this dataframe to an interactive table.\"\n",
              "              style=\"display:none;\">\n",
              "        \n",
              "  <svg xmlns=\"http://www.w3.org/2000/svg\" height=\"24px\"viewBox=\"0 0 24 24\"\n",
              "       width=\"24px\">\n",
              "    <path d=\"M0 0h24v24H0V0z\" fill=\"none\"/>\n",
              "    <path d=\"M18.56 5.44l.94 2.06.94-2.06 2.06-.94-2.06-.94-.94-2.06-.94 2.06-2.06.94zm-11 1L8.5 8.5l.94-2.06 2.06-.94-2.06-.94L8.5 2.5l-.94 2.06-2.06.94zm10 10l.94 2.06.94-2.06 2.06-.94-2.06-.94-.94-2.06-.94 2.06-2.06.94z\"/><path d=\"M17.41 7.96l-1.37-1.37c-.4-.4-.92-.59-1.43-.59-.52 0-1.04.2-1.43.59L10.3 9.45l-7.72 7.72c-.78.78-.78 2.05 0 2.83L4 21.41c.39.39.9.59 1.41.59.51 0 1.02-.2 1.41-.59l7.78-7.78 2.81-2.81c.8-.78.8-2.07 0-2.86zM5.41 20L4 18.59l7.72-7.72 1.47 1.35L5.41 20z\"/>\n",
              "  </svg>\n",
              "      </button>\n",
              "      \n",
              "  <style>\n",
              "    .colab-df-container {\n",
              "      display:flex;\n",
              "      flex-wrap:wrap;\n",
              "      gap: 12px;\n",
              "    }\n",
              "\n",
              "    .colab-df-convert {\n",
              "      background-color: #E8F0FE;\n",
              "      border: none;\n",
              "      border-radius: 50%;\n",
              "      cursor: pointer;\n",
              "      display: none;\n",
              "      fill: #1967D2;\n",
              "      height: 32px;\n",
              "      padding: 0 0 0 0;\n",
              "      width: 32px;\n",
              "    }\n",
              "\n",
              "    .colab-df-convert:hover {\n",
              "      background-color: #E2EBFA;\n",
              "      box-shadow: 0px 1px 2px rgba(60, 64, 67, 0.3), 0px 1px 3px 1px rgba(60, 64, 67, 0.15);\n",
              "      fill: #174EA6;\n",
              "    }\n",
              "\n",
              "    [theme=dark] .colab-df-convert {\n",
              "      background-color: #3B4455;\n",
              "      fill: #D2E3FC;\n",
              "    }\n",
              "\n",
              "    [theme=dark] .colab-df-convert:hover {\n",
              "      background-color: #434B5C;\n",
              "      box-shadow: 0px 1px 3px 1px rgba(0, 0, 0, 0.15);\n",
              "      filter: drop-shadow(0px 1px 2px rgba(0, 0, 0, 0.3));\n",
              "      fill: #FFFFFF;\n",
              "    }\n",
              "  </style>\n",
              "\n",
              "      <script>\n",
              "        const buttonEl =\n",
              "          document.querySelector('#df-43ef62e5-d969-403a-938e-e44c5d9c43dc button.colab-df-convert');\n",
              "        buttonEl.style.display =\n",
              "          google.colab.kernel.accessAllowed ? 'block' : 'none';\n",
              "\n",
              "        async function convertToInteractive(key) {\n",
              "          const element = document.querySelector('#df-43ef62e5-d969-403a-938e-e44c5d9c43dc');\n",
              "          const dataTable =\n",
              "            await google.colab.kernel.invokeFunction('convertToInteractive',\n",
              "                                                     [key], {});\n",
              "          if (!dataTable) return;\n",
              "\n",
              "          const docLinkHtml = 'Like what you see? Visit the ' +\n",
              "            '<a target=\"_blank\" href=https://colab.research.google.com/notebooks/data_table.ipynb>data table notebook</a>'\n",
              "            + ' to learn more about interactive tables.';\n",
              "          element.innerHTML = '';\n",
              "          dataTable['output_type'] = 'display_data';\n",
              "          await google.colab.output.renderOutput(dataTable, element);\n",
              "          const docLink = document.createElement('div');\n",
              "          docLink.innerHTML = docLinkHtml;\n",
              "          element.appendChild(docLink);\n",
              "        }\n",
              "      </script>\n",
              "    </div>\n",
              "  </div>\n",
              "  "
            ],
            "text/plain": [
              "     time_stamp       Ax      Ay       Az  ...   Mx.4  My.4  Mz.4  Unnamed: 69\n",
              "0  1.390000e+12 -1.81150 -14.873 -1.34840  ... -22.20  6.48  4.56      walking\n",
              "1  1.390000e+12  0.24517 -14.070 -0.84446  ... -21.90  7.14  5.34      walking\n",
              "2  1.390000e+12 -0.57205 -14.628 -1.75700  ... -21.60  7.50  5.64      walking\n",
              "3  1.390000e+12 -0.69464 -12.939 -3.09180  ... -21.12  8.40  6.12      walking\n",
              "4  1.390000e+12  0.87170 -12.000 -1.56630  ... -20.94  8.70  6.30      walking\n",
              "\n",
              "[5 rows x 70 columns]"
            ]
          },
          "metadata": {},
          "execution_count": 5
        }
      ],
      "source": [
        "df = pd.DataFrame()\n",
        "for i in range(10):\n",
        "    df_tmp = pd.read_csv('../data/Participant_' + str(i+1) + '.csv', header=1)\n",
        "    df = pd.concat([df, df_tmp])\n",
        "\n",
        "# View top 5 rows of dataframe\n",
        "df.head()\n"
      ]
    },
    {
      "cell_type": "markdown",
      "metadata": {
        "id": "Ss7I4_6w6_ce"
      },
      "source": [
        "Now we split data into train and test sets (80% train, 20% test):\n"
      ]
    },
    {
      "cell_type": "code",
      "execution_count": 6,
      "metadata": {
        "colab": {
          "base_uri": "https://localhost:8080/"
        },
        "id": "XNZs8RWc6_ci",
        "outputId": "0cf2ea8b-48fc-4f7f-fc87-b66e9b084cea"
      },
      "outputs": [
        {
          "output_type": "stream",
          "name": "stdout",
          "text": [
            "Number of train spamples:  504000\n",
            "Number of test spamples:  126000\n"
          ]
        }
      ],
      "source": [
        "split_point = int(len(df) * 0.8)\n",
        "train_data = df.iloc[:split_point, :]\n",
        "test_data = df.iloc[split_point:, :]\n",
        "\n",
        "print(\"Number of train spamples: \", len(train_data))\n",
        "print(\"Number of test spamples: \", len(test_data))\n"
      ]
    },
    {
      "cell_type": "markdown",
      "metadata": {
        "id": "FWaPqDZM6_ck"
      },
      "source": [
        "As we only use right pocket's and left pocket's data, we should concatenate those into a single data frame:"
      ]
    },
    {
      "cell_type": "code",
      "execution_count": 7,
      "metadata": {
        "id": "UcwYbahD6_cl"
      },
      "outputs": [],
      "source": [
        "def concat(data):\n",
        "    \n",
        "    # Select left pocket data\n",
        "    left_pocket = data.iloc[:,1:10]\n",
        "    \n",
        "    #Square root of sum of squares of accelerometer, linear acceleration and gyroscope data\n",
        "    left_pocket[\"MA\"] = np.sqrt(np.square(left_pocket['Ax']) + np.square(left_pocket['Ay']) + np.square(left_pocket['Az']))\n",
        "    left_pocket[\"ML\"] = np.sqrt(np.square(left_pocket['Lx']) + np.square(left_pocket['Ly']) + np.square(left_pocket['Lz']))\n",
        "    left_pocket[\"MG\"] = np.sqrt(np.square(left_pocket['Gx']) + np.square(left_pocket['Gy']) + np.square(left_pocket['Gz']))\n",
        "    \n",
        "\n",
        "    # Select right pocket data\n",
        "    right_pocket = data.iloc[:,15:24]\n",
        "    right_pocket.columns=['Ax', 'Ay', 'Az', 'Lx', 'Ly', 'Lz', 'Gx', 'Gy', 'Gz']\n",
        "    \n",
        "    #Square root of sum of squares of accelerometer, linear acceleration and gyroscope data\n",
        "    right_pocket[\"MA\"] = np.sqrt(np.square(right_pocket['Ax']) + np.square(right_pocket['Ay']) + np.square(right_pocket['Az']))\n",
        "    right_pocket[\"ML\"] = np.sqrt(np.square(right_pocket['Lx']) + np.square(right_pocket['Ly']) + np.square(right_pocket['Lz']))\n",
        "    right_pocket[\"MG\"] = np.sqrt(np.square(right_pocket['Gx']) + np.square(right_pocket['Gy']) + np.square(right_pocket['Gz']))\n",
        "\n",
        "    \n",
        "    # Extract labels \n",
        "    labels = data.iloc[:, 69] \n",
        "    labels = labels.to_frame()\n",
        "    labels.columns=['Activity_Label']\n",
        "    labels = pd.concat([labels]*2, ignore_index=True)\n",
        "    #replace typo 'upsatirs' with upstairs! \n",
        "    labels.loc[(labels['Activity_Label'] == 'upsatirs')] = 'upstairs'\n",
        "    \n",
        "    #Concatenate left pocket and right pocket data into a single data frame (we only use left pocket and right pocket data)\n",
        "    frames = [left_pocket, right_pocket]\n",
        "    df = pd.concat(frames)\n",
        "   \n",
        "    return df, labels\n",
        "\n",
        "# Generate input data and labels\n",
        "train_X, train_y = concat(train_data)\n",
        "test_X, test_y = concat(test_data)\n"
      ]
    },
    {
      "cell_type": "code",
      "execution_count": 8,
      "metadata": {
        "colab": {
          "base_uri": "https://localhost:8080/",
          "height": 206
        },
        "id": "pr9HhTEv6_cn",
        "outputId": "fa0e4bc7-c147-4059-e3ca-3b5679756304"
      },
      "outputs": [
        {
          "output_type": "execute_result",
          "data": {
            "text/html": [
              "\n",
              "  <div id=\"df-d38a6d28-2ef8-4072-b5a5-9434ae209ec0\">\n",
              "    <div class=\"colab-df-container\">\n",
              "      <div>\n",
              "<style scoped>\n",
              "    .dataframe tbody tr th:only-of-type {\n",
              "        vertical-align: middle;\n",
              "    }\n",
              "\n",
              "    .dataframe tbody tr th {\n",
              "        vertical-align: top;\n",
              "    }\n",
              "\n",
              "    .dataframe thead th {\n",
              "        text-align: right;\n",
              "    }\n",
              "</style>\n",
              "<table border=\"1\" class=\"dataframe\">\n",
              "  <thead>\n",
              "    <tr style=\"text-align: right;\">\n",
              "      <th></th>\n",
              "      <th>Ax</th>\n",
              "      <th>Ay</th>\n",
              "      <th>Az</th>\n",
              "      <th>Lx</th>\n",
              "      <th>Ly</th>\n",
              "      <th>Lz</th>\n",
              "      <th>Gx</th>\n",
              "      <th>Gy</th>\n",
              "      <th>Gz</th>\n",
              "      <th>MA</th>\n",
              "      <th>ML</th>\n",
              "      <th>MG</th>\n",
              "    </tr>\n",
              "  </thead>\n",
              "  <tbody>\n",
              "    <tr>\n",
              "      <th>0</th>\n",
              "      <td>-1.81150</td>\n",
              "      <td>-14.873</td>\n",
              "      <td>-1.34840</td>\n",
              "      <td>-1.26910</td>\n",
              "      <td>-5.1057</td>\n",
              "      <td>-0.66445</td>\n",
              "      <td>-0.53206</td>\n",
              "      <td>-3.18690</td>\n",
              "      <td>0.23976</td>\n",
              "      <td>15.043465</td>\n",
              "      <td>5.302856</td>\n",
              "      <td>3.239893</td>\n",
              "    </tr>\n",
              "    <tr>\n",
              "      <th>1</th>\n",
              "      <td>0.24517</td>\n",
              "      <td>-14.070</td>\n",
              "      <td>-0.84446</td>\n",
              "      <td>0.70147</td>\n",
              "      <td>-4.2969</td>\n",
              "      <td>-0.17199</td>\n",
              "      <td>-0.25229</td>\n",
              "      <td>-1.79660</td>\n",
              "      <td>0.40745</td>\n",
              "      <td>14.097451</td>\n",
              "      <td>4.357177</td>\n",
              "      <td>1.859419</td>\n",
              "    </tr>\n",
              "    <tr>\n",
              "      <th>2</th>\n",
              "      <td>-0.57205</td>\n",
              "      <td>-14.628</td>\n",
              "      <td>-1.75700</td>\n",
              "      <td>-0.21760</td>\n",
              "      <td>-4.8531</td>\n",
              "      <td>-1.05650</td>\n",
              "      <td>-1.04920</td>\n",
              "      <td>0.29138</td>\n",
              "      <td>0.29230</td>\n",
              "      <td>14.744242</td>\n",
              "      <td>4.971531</td>\n",
              "      <td>1.127458</td>\n",
              "    </tr>\n",
              "    <tr>\n",
              "      <th>3</th>\n",
              "      <td>-0.69464</td>\n",
              "      <td>-12.939</td>\n",
              "      <td>-3.09180</td>\n",
              "      <td>-0.32273</td>\n",
              "      <td>-3.1786</td>\n",
              "      <td>-2.21970</td>\n",
              "      <td>-2.37200</td>\n",
              "      <td>1.00820</td>\n",
              "      <td>0.34972</td>\n",
              "      <td>13.321392</td>\n",
              "      <td>3.890337</td>\n",
              "      <td>2.600991</td>\n",
              "    </tr>\n",
              "    <tr>\n",
              "      <th>4</th>\n",
              "      <td>0.87170</td>\n",
              "      <td>-12.000</td>\n",
              "      <td>-1.56630</td>\n",
              "      <td>1.13740</td>\n",
              "      <td>-2.2390</td>\n",
              "      <td>-0.65476</td>\n",
              "      <td>-2.79010</td>\n",
              "      <td>0.65485</td>\n",
              "      <td>0.22724</td>\n",
              "      <td>12.133143</td>\n",
              "      <td>2.595286</td>\n",
              "      <td>2.874913</td>\n",
              "    </tr>\n",
              "  </tbody>\n",
              "</table>\n",
              "</div>\n",
              "      <button class=\"colab-df-convert\" onclick=\"convertToInteractive('df-d38a6d28-2ef8-4072-b5a5-9434ae209ec0')\"\n",
              "              title=\"Convert this dataframe to an interactive table.\"\n",
              "              style=\"display:none;\">\n",
              "        \n",
              "  <svg xmlns=\"http://www.w3.org/2000/svg\" height=\"24px\"viewBox=\"0 0 24 24\"\n",
              "       width=\"24px\">\n",
              "    <path d=\"M0 0h24v24H0V0z\" fill=\"none\"/>\n",
              "    <path d=\"M18.56 5.44l.94 2.06.94-2.06 2.06-.94-2.06-.94-.94-2.06-.94 2.06-2.06.94zm-11 1L8.5 8.5l.94-2.06 2.06-.94-2.06-.94L8.5 2.5l-.94 2.06-2.06.94zm10 10l.94 2.06.94-2.06 2.06-.94-2.06-.94-.94-2.06-.94 2.06-2.06.94z\"/><path d=\"M17.41 7.96l-1.37-1.37c-.4-.4-.92-.59-1.43-.59-.52 0-1.04.2-1.43.59L10.3 9.45l-7.72 7.72c-.78.78-.78 2.05 0 2.83L4 21.41c.39.39.9.59 1.41.59.51 0 1.02-.2 1.41-.59l7.78-7.78 2.81-2.81c.8-.78.8-2.07 0-2.86zM5.41 20L4 18.59l7.72-7.72 1.47 1.35L5.41 20z\"/>\n",
              "  </svg>\n",
              "      </button>\n",
              "      \n",
              "  <style>\n",
              "    .colab-df-container {\n",
              "      display:flex;\n",
              "      flex-wrap:wrap;\n",
              "      gap: 12px;\n",
              "    }\n",
              "\n",
              "    .colab-df-convert {\n",
              "      background-color: #E8F0FE;\n",
              "      border: none;\n",
              "      border-radius: 50%;\n",
              "      cursor: pointer;\n",
              "      display: none;\n",
              "      fill: #1967D2;\n",
              "      height: 32px;\n",
              "      padding: 0 0 0 0;\n",
              "      width: 32px;\n",
              "    }\n",
              "\n",
              "    .colab-df-convert:hover {\n",
              "      background-color: #E2EBFA;\n",
              "      box-shadow: 0px 1px 2px rgba(60, 64, 67, 0.3), 0px 1px 3px 1px rgba(60, 64, 67, 0.15);\n",
              "      fill: #174EA6;\n",
              "    }\n",
              "\n",
              "    [theme=dark] .colab-df-convert {\n",
              "      background-color: #3B4455;\n",
              "      fill: #D2E3FC;\n",
              "    }\n",
              "\n",
              "    [theme=dark] .colab-df-convert:hover {\n",
              "      background-color: #434B5C;\n",
              "      box-shadow: 0px 1px 3px 1px rgba(0, 0, 0, 0.15);\n",
              "      filter: drop-shadow(0px 1px 2px rgba(0, 0, 0, 0.3));\n",
              "      fill: #FFFFFF;\n",
              "    }\n",
              "  </style>\n",
              "\n",
              "      <script>\n",
              "        const buttonEl =\n",
              "          document.querySelector('#df-d38a6d28-2ef8-4072-b5a5-9434ae209ec0 button.colab-df-convert');\n",
              "        buttonEl.style.display =\n",
              "          google.colab.kernel.accessAllowed ? 'block' : 'none';\n",
              "\n",
              "        async function convertToInteractive(key) {\n",
              "          const element = document.querySelector('#df-d38a6d28-2ef8-4072-b5a5-9434ae209ec0');\n",
              "          const dataTable =\n",
              "            await google.colab.kernel.invokeFunction('convertToInteractive',\n",
              "                                                     [key], {});\n",
              "          if (!dataTable) return;\n",
              "\n",
              "          const docLinkHtml = 'Like what you see? Visit the ' +\n",
              "            '<a target=\"_blank\" href=https://colab.research.google.com/notebooks/data_table.ipynb>data table notebook</a>'\n",
              "            + ' to learn more about interactive tables.';\n",
              "          element.innerHTML = '';\n",
              "          dataTable['output_type'] = 'display_data';\n",
              "          await google.colab.output.renderOutput(dataTable, element);\n",
              "          const docLink = document.createElement('div');\n",
              "          docLink.innerHTML = docLinkHtml;\n",
              "          element.appendChild(docLink);\n",
              "        }\n",
              "      </script>\n",
              "    </div>\n",
              "  </div>\n",
              "  "
            ],
            "text/plain": [
              "        Ax      Ay       Az       Lx  ...       Gz         MA        ML        MG\n",
              "0 -1.81150 -14.873 -1.34840 -1.26910  ...  0.23976  15.043465  5.302856  3.239893\n",
              "1  0.24517 -14.070 -0.84446  0.70147  ...  0.40745  14.097451  4.357177  1.859419\n",
              "2 -0.57205 -14.628 -1.75700 -0.21760  ...  0.29230  14.744242  4.971531  1.127458\n",
              "3 -0.69464 -12.939 -3.09180 -0.32273  ...  0.34972  13.321392  3.890337  2.600991\n",
              "4  0.87170 -12.000 -1.56630  1.13740  ...  0.22724  12.133143  2.595286  2.874913\n",
              "\n",
              "[5 rows x 12 columns]"
            ]
          },
          "metadata": {},
          "execution_count": 8
        }
      ],
      "source": [
        "train_X.head()"
      ]
    },
    {
      "cell_type": "code",
      "execution_count": 9,
      "metadata": {
        "colab": {
          "base_uri": "https://localhost:8080/",
          "height": 206
        },
        "id": "Tv4DHPUT6_co",
        "outputId": "4028c39f-c749-41fb-f423-5e8831d01d0c"
      },
      "outputs": [
        {
          "output_type": "execute_result",
          "data": {
            "text/html": [
              "\n",
              "  <div id=\"df-974fe559-7230-4ac2-837e-22a31526a2df\">\n",
              "    <div class=\"colab-df-container\">\n",
              "      <div>\n",
              "<style scoped>\n",
              "    .dataframe tbody tr th:only-of-type {\n",
              "        vertical-align: middle;\n",
              "    }\n",
              "\n",
              "    .dataframe tbody tr th {\n",
              "        vertical-align: top;\n",
              "    }\n",
              "\n",
              "    .dataframe thead th {\n",
              "        text-align: right;\n",
              "    }\n",
              "</style>\n",
              "<table border=\"1\" class=\"dataframe\">\n",
              "  <thead>\n",
              "    <tr style=\"text-align: right;\">\n",
              "      <th></th>\n",
              "      <th>Activity_Label</th>\n",
              "    </tr>\n",
              "  </thead>\n",
              "  <tbody>\n",
              "    <tr>\n",
              "      <th>0</th>\n",
              "      <td>walking</td>\n",
              "    </tr>\n",
              "    <tr>\n",
              "      <th>1</th>\n",
              "      <td>walking</td>\n",
              "    </tr>\n",
              "    <tr>\n",
              "      <th>2</th>\n",
              "      <td>walking</td>\n",
              "    </tr>\n",
              "    <tr>\n",
              "      <th>3</th>\n",
              "      <td>walking</td>\n",
              "    </tr>\n",
              "    <tr>\n",
              "      <th>4</th>\n",
              "      <td>walking</td>\n",
              "    </tr>\n",
              "  </tbody>\n",
              "</table>\n",
              "</div>\n",
              "      <button class=\"colab-df-convert\" onclick=\"convertToInteractive('df-974fe559-7230-4ac2-837e-22a31526a2df')\"\n",
              "              title=\"Convert this dataframe to an interactive table.\"\n",
              "              style=\"display:none;\">\n",
              "        \n",
              "  <svg xmlns=\"http://www.w3.org/2000/svg\" height=\"24px\"viewBox=\"0 0 24 24\"\n",
              "       width=\"24px\">\n",
              "    <path d=\"M0 0h24v24H0V0z\" fill=\"none\"/>\n",
              "    <path d=\"M18.56 5.44l.94 2.06.94-2.06 2.06-.94-2.06-.94-.94-2.06-.94 2.06-2.06.94zm-11 1L8.5 8.5l.94-2.06 2.06-.94-2.06-.94L8.5 2.5l-.94 2.06-2.06.94zm10 10l.94 2.06.94-2.06 2.06-.94-2.06-.94-.94-2.06-.94 2.06-2.06.94z\"/><path d=\"M17.41 7.96l-1.37-1.37c-.4-.4-.92-.59-1.43-.59-.52 0-1.04.2-1.43.59L10.3 9.45l-7.72 7.72c-.78.78-.78 2.05 0 2.83L4 21.41c.39.39.9.59 1.41.59.51 0 1.02-.2 1.41-.59l7.78-7.78 2.81-2.81c.8-.78.8-2.07 0-2.86zM5.41 20L4 18.59l7.72-7.72 1.47 1.35L5.41 20z\"/>\n",
              "  </svg>\n",
              "      </button>\n",
              "      \n",
              "  <style>\n",
              "    .colab-df-container {\n",
              "      display:flex;\n",
              "      flex-wrap:wrap;\n",
              "      gap: 12px;\n",
              "    }\n",
              "\n",
              "    .colab-df-convert {\n",
              "      background-color: #E8F0FE;\n",
              "      border: none;\n",
              "      border-radius: 50%;\n",
              "      cursor: pointer;\n",
              "      display: none;\n",
              "      fill: #1967D2;\n",
              "      height: 32px;\n",
              "      padding: 0 0 0 0;\n",
              "      width: 32px;\n",
              "    }\n",
              "\n",
              "    .colab-df-convert:hover {\n",
              "      background-color: #E2EBFA;\n",
              "      box-shadow: 0px 1px 2px rgba(60, 64, 67, 0.3), 0px 1px 3px 1px rgba(60, 64, 67, 0.15);\n",
              "      fill: #174EA6;\n",
              "    }\n",
              "\n",
              "    [theme=dark] .colab-df-convert {\n",
              "      background-color: #3B4455;\n",
              "      fill: #D2E3FC;\n",
              "    }\n",
              "\n",
              "    [theme=dark] .colab-df-convert:hover {\n",
              "      background-color: #434B5C;\n",
              "      box-shadow: 0px 1px 3px 1px rgba(0, 0, 0, 0.15);\n",
              "      filter: drop-shadow(0px 1px 2px rgba(0, 0, 0, 0.3));\n",
              "      fill: #FFFFFF;\n",
              "    }\n",
              "  </style>\n",
              "\n",
              "      <script>\n",
              "        const buttonEl =\n",
              "          document.querySelector('#df-974fe559-7230-4ac2-837e-22a31526a2df button.colab-df-convert');\n",
              "        buttonEl.style.display =\n",
              "          google.colab.kernel.accessAllowed ? 'block' : 'none';\n",
              "\n",
              "        async function convertToInteractive(key) {\n",
              "          const element = document.querySelector('#df-974fe559-7230-4ac2-837e-22a31526a2df');\n",
              "          const dataTable =\n",
              "            await google.colab.kernel.invokeFunction('convertToInteractive',\n",
              "                                                     [key], {});\n",
              "          if (!dataTable) return;\n",
              "\n",
              "          const docLinkHtml = 'Like what you see? Visit the ' +\n",
              "            '<a target=\"_blank\" href=https://colab.research.google.com/notebooks/data_table.ipynb>data table notebook</a>'\n",
              "            + ' to learn more about interactive tables.';\n",
              "          element.innerHTML = '';\n",
              "          dataTable['output_type'] = 'display_data';\n",
              "          await google.colab.output.renderOutput(dataTable, element);\n",
              "          const docLink = document.createElement('div');\n",
              "          docLink.innerHTML = docLinkHtml;\n",
              "          element.appendChild(docLink);\n",
              "        }\n",
              "      </script>\n",
              "    </div>\n",
              "  </div>\n",
              "  "
            ],
            "text/plain": [
              "  Activity_Label\n",
              "0        walking\n",
              "1        walking\n",
              "2        walking\n",
              "3        walking\n",
              "4        walking"
            ]
          },
          "metadata": {},
          "execution_count": 9
        }
      ],
      "source": [
        "train_y.head()"
      ]
    },
    {
      "cell_type": "markdown",
      "metadata": {
        "id": "Mb0fXMXp6_co"
      },
      "source": [
        "Next we use sliding window mechanism to generate data segments.\n",
        "We use Accelerometer, Linear acceleration and Gyroscope features and their sum of squares roots:\n"
      ]
    },
    {
      "cell_type": "markdown",
      "source": [
        "```\n",
        "        lx = x['Lx'].values[i: i + n_time_steps]\n",
        "        ly = x['Ly'].values[i: i + n_time_steps]\n",
        "        lz = x['Lz'].values[i: i + n_time_steps]\n",
        "        \n",
        "        gx = x['Gx'].values[i: i + n_time_steps]\n",
        "        gy = x['Gy'].values[i: i + n_time_steps]\n",
        "        gz = x['Gz'].values[i: i + n_time_steps]\n",
        "\n",
        "        MA = x['MA'].values[i: i + n_time_steps]\n",
        "        ML = x['ML'].values[i: i + n_time_steps]\n",
        "        MG = x['MG'].values[i: i + n_time_steps]\n",
        "\n",
        "        , lx, ly, lz, gx, gy, gz, MA, ML, MG\n",
        "```  "
      ],
      "metadata": {
        "id": "UKDtbQYilRWK"
      }
    },
    {
      "cell_type": "code",
      "execution_count": 10,
      "metadata": {
        "id": "fjBnFMKJ6_cp"
      },
      "outputs": [],
      "source": [
        "N_TIME_STEPS = 100 #sliding window length\n",
        "STEP = 50 #Sliding window step size\n",
        "N_FEATURES = 12 \n",
        "\n",
        "def generate_sequence(x, y, n_time_steps, step):\n",
        "    \n",
        "    segments = []\n",
        "    labels = []\n",
        "    for i in range(0, len(x) - n_time_steps, step):\n",
        "        ax = x['Ax'].values[i: i + n_time_steps]\n",
        "        ay = x['Ay'].values[i: i + n_time_steps]\n",
        "        az = x['Az'].values[i: i + n_time_steps]\n",
        "\n",
        "        lx = x['Lx'].values[i: i + n_time_steps]\n",
        "        ly = x['Ly'].values[i: i + n_time_steps]\n",
        "        lz = x['Lz'].values[i: i + n_time_steps]\n",
        "\n",
        "        gx = x['Gx'].values[i: i + n_time_steps]\n",
        "        gy = x['Gy'].values[i: i + n_time_steps]\n",
        "        gz = x['Gz'].values[i: i + n_time_steps]\n",
        "\n",
        "        MA = x['MA'].values[i: i + n_time_steps]\n",
        "        ML = x['ML'].values[i: i + n_time_steps]\n",
        "        MG = x['MG'].values[i: i + n_time_steps]\n",
        "     \n",
        "        label = stats.mode(y['Activity_Label'][i: i + n_time_steps])[0][0]\n",
        "        segments.append([ax, ay, az, lx, ly, lz, gx, gy, gz, MA, ML, MG])\n",
        "        labels.append(label)\n",
        "        \n",
        "    return segments, labels\n",
        "\n",
        "train_X, train_y = generate_sequence(train_X, train_y, N_TIME_STEPS, STEP)\n",
        "test_X, test_y = generate_sequence(test_X, test_y, N_TIME_STEPS, STEP)\n"
      ]
    },
    {
      "cell_type": "code",
      "execution_count": 11,
      "metadata": {
        "id": "dJq5WlYB6_cp"
      },
      "outputs": [],
      "source": [
        "# reshape input segments and one-hot encode labels\n",
        "def reshape_segments(x, y, n_time_steps, n_features):\n",
        "    \n",
        "    x_reshaped = np.asarray(x, dtype= np.float32).reshape(-1, n_time_steps, n_features)\n",
        "    y_reshaped = np.asarray(pd.get_dummies(y), dtype = np.float32)\n",
        "    return x_reshaped, y_reshaped\n",
        "\n",
        "X_train, y_train = reshape_segments(train_X, train_y, N_TIME_STEPS, N_FEATURES)\n",
        "X_test, y_test = reshape_segments(test_X, test_y, N_TIME_STEPS, N_FEATURES)"
      ]
    },
    {
      "cell_type": "markdown",
      "metadata": {
        "id": "cdojyRs36_cq"
      },
      "source": [
        "## Building the model"
      ]
    },
    {
      "cell_type": "code",
      "source": [
        "Sequential = tf.keras.Sequential\n",
        "LSTM = tf.keras.layers.LSTM\n",
        "Flatten = tf.keras.layers.Flatten\n",
        "Dense = tf.keras.layers.Dense\n",
        "l2 = tf.keras.regularizers.L2\n",
        "Adam = tf.keras.optimizers.Adam\n"
      ],
      "metadata": {
        "id": "4ape-lnB8YSj"
      },
      "execution_count": 12,
      "outputs": []
    },
    {
      "cell_type": "code",
      "execution_count": 13,
      "metadata": {
        "id": "klwmVMB46_cq"
      },
      "outputs": [],
      "source": [
        "N_CLASSES = 7\n",
        "N_HIDDEN_UNITS = 32\n",
        "L2 = 0.000001\n",
        "\n",
        "model=Sequential(name='sequential_1')\n",
        "\n",
        "\n",
        "model.add(LSTM(N_HIDDEN_UNITS, return_sequences=True, input_shape=(N_TIME_STEPS, N_FEATURES), \n",
        "          kernel_initializer='orthogonal', kernel_regularizer=l2(L2), recurrent_regularizer=l2(L2),\n",
        "         bias_regularizer=l2(L2), name=\"LSTM_1\"))\n",
        "\n",
        "#model.add(LSTM(N_HIDDEN_UNITS,\n",
        "#          kernel_regularizer=l2(L2), recurrent_regularizer=l2(L2),\n",
        "#        bias_regularizer=l2(L2), name=\"LSTM_2\"))\n",
        "\n",
        "model.add(Flatten(name='Flatten'))\n",
        "\n",
        "model.add(Dense(N_HIDDEN_UNITS, activation='relu', \n",
        "                kernel_regularizer=l2(L2), bias_regularizer=l2(L2), name=\"Dense_1\"))\n",
        "\n",
        "model.add(Dense(N_CLASSES, activation='softmax', \n",
        "                kernel_regularizer=l2(L2), bias_regularizer=l2(L2), name=\"Output\"))\n"
      ]
    },
    {
      "cell_type": "code",
      "execution_count": 14,
      "metadata": {
        "colab": {
          "base_uri": "https://localhost:8080/"
        },
        "id": "zlqGRrK16_cr",
        "outputId": "554a4da7-21cd-4574-ac43-414e38270e51"
      },
      "outputs": [
        {
          "output_type": "stream",
          "name": "stdout",
          "text": [
            "Model: \"sequential_1\"\n",
            "_________________________________________________________________\n",
            " Layer (type)                Output Shape              Param #   \n",
            "=================================================================\n",
            " LSTM_1 (LSTM)               (None, 100, 32)           5760      \n",
            "                                                                 \n",
            " Flatten (Flatten)           (None, 3200)              0         \n",
            "                                                                 \n",
            " Dense_1 (Dense)             (None, 32)                102432    \n",
            "                                                                 \n",
            " Output (Dense)              (None, 7)                 231       \n",
            "                                                                 \n",
            "=================================================================\n",
            "Total params: 108,423\n",
            "Trainable params: 108,423\n",
            "Non-trainable params: 0\n",
            "_________________________________________________________________\n"
          ]
        }
      ],
      "source": [
        "model.summary()\n"
      ]
    },
    {
      "cell_type": "markdown",
      "metadata": {
        "id": "4WC5lCJ46_cr"
      },
      "source": [
        "## Training & Evaluation"
      ]
    },
    {
      "cell_type": "code",
      "execution_count": 15,
      "metadata": {
        "id": "6rG7KVYC6_cs"
      },
      "outputs": [],
      "source": [
        "#compile\n",
        "LR = 0.0001\n",
        "model.compile(loss='categorical_crossentropy', optimizer=Adam(learning_rate=LR), metrics=['accuracy'])\n"
      ]
    },
    {
      "cell_type": "code",
      "source": [
        "# prepare callbacks\n",
        "from keras.callbacks import ModelCheckpoint\n",
        "\n",
        "callbacks= [ModelCheckpoint('model.h5', save_weights_only=False, save_best_only=True, verbose=1)]\n"
      ],
      "metadata": {
        "id": "2VkhjIqb9h4S"
      },
      "execution_count": 16,
      "outputs": []
    },
    {
      "cell_type": "code",
      "execution_count": 17,
      "metadata": {
        "colab": {
          "base_uri": "https://localhost:8080/"
        },
        "id": "bKE7H29n6_cs",
        "outputId": "9309fc66-b86e-4fdc-94a7-a9940ed5566a"
      },
      "outputs": [
        {
          "output_type": "stream",
          "name": "stdout",
          "text": [
            "Epoch 1/30\n",
            "19/20 [===========================>..] - ETA: 0s - loss: 1.7553 - accuracy: 0.4760\n",
            "Epoch 1: val_loss improved from inf to 1.53488, saving model to model.h5\n",
            "20/20 [==============================] - 9s 118ms/step - loss: 1.7479 - accuracy: 0.4817 - val_loss: 1.5349 - val_accuracy: 0.5834\n",
            "Epoch 2/30\n",
            "20/20 [==============================] - ETA: 0s - loss: 1.3394 - accuracy: 0.7244\n",
            "Epoch 2: val_loss improved from 1.53488 to 1.19386, saving model to model.h5\n",
            "20/20 [==============================] - 1s 48ms/step - loss: 1.3394 - accuracy: 0.7244 - val_loss: 1.1939 - val_accuracy: 0.7745\n",
            "Epoch 3/30\n",
            "19/20 [===========================>..] - ETA: 0s - loss: 1.0122 - accuracy: 0.8411\n",
            "Epoch 3: val_loss improved from 1.19386 to 0.91421, saving model to model.h5\n",
            "20/20 [==============================] - 1s 47ms/step - loss: 1.0079 - accuracy: 0.8418 - val_loss: 0.9142 - val_accuracy: 0.8861\n",
            "Epoch 4/30\n",
            "19/20 [===========================>..] - ETA: 0s - loss: 0.7515 - accuracy: 0.9010\n",
            "Epoch 4: val_loss improved from 0.91421 to 0.69492, saving model to model.h5\n",
            "20/20 [==============================] - 1s 49ms/step - loss: 0.7481 - accuracy: 0.9016 - val_loss: 0.6949 - val_accuracy: 0.9226\n",
            "Epoch 5/30\n",
            "20/20 [==============================] - ETA: 0s - loss: 0.5652 - accuracy: 0.9285\n",
            "Epoch 5: val_loss improved from 0.69492 to 0.54515, saving model to model.h5\n",
            "20/20 [==============================] - 1s 54ms/step - loss: 0.5652 - accuracy: 0.9285 - val_loss: 0.5452 - val_accuracy: 0.9428\n",
            "Epoch 6/30\n",
            "19/20 [===========================>..] - ETA: 0s - loss: 0.4468 - accuracy: 0.9432\n",
            "Epoch 6: val_loss improved from 0.54515 to 0.44224, saving model to model.h5\n",
            "20/20 [==============================] - 1s 44ms/step - loss: 0.4450 - accuracy: 0.9432 - val_loss: 0.4422 - val_accuracy: 0.9526\n",
            "Epoch 7/30\n",
            "19/20 [===========================>..] - ETA: 0s - loss: 0.3663 - accuracy: 0.9482\n",
            "Epoch 7: val_loss improved from 0.44224 to 0.37284, saving model to model.h5\n",
            "20/20 [==============================] - 1s 46ms/step - loss: 0.3642 - accuracy: 0.9488 - val_loss: 0.3728 - val_accuracy: 0.9579\n",
            "Epoch 8/30\n",
            "20/20 [==============================] - ETA: 0s - loss: 0.3071 - accuracy: 0.9557\n",
            "Epoch 8: val_loss improved from 0.37284 to 0.32101, saving model to model.h5\n",
            "20/20 [==============================] - 1s 42ms/step - loss: 0.3071 - accuracy: 0.9557 - val_loss: 0.3210 - val_accuracy: 0.9601\n",
            "Epoch 9/30\n",
            "20/20 [==============================] - ETA: 0s - loss: 0.2642 - accuracy: 0.9598\n",
            "Epoch 9: val_loss improved from 0.32101 to 0.28243, saving model to model.h5\n",
            "20/20 [==============================] - 1s 44ms/step - loss: 0.2642 - accuracy: 0.9598 - val_loss: 0.2824 - val_accuracy: 0.9645\n",
            "Epoch 10/30\n",
            "19/20 [===========================>..] - ETA: 0s - loss: 0.2314 - accuracy: 0.9639\n",
            "Epoch 10: val_loss improved from 0.28243 to 0.25077, saving model to model.h5\n",
            "20/20 [==============================] - 1s 45ms/step - loss: 0.2312 - accuracy: 0.9637 - val_loss: 0.2508 - val_accuracy: 0.9680\n",
            "Epoch 11/30\n",
            "19/20 [===========================>..] - ETA: 0s - loss: 0.2061 - accuracy: 0.9665\n",
            "Epoch 11: val_loss improved from 0.25077 to 0.22460, saving model to model.h5\n",
            "20/20 [==============================] - 1s 38ms/step - loss: 0.2048 - accuracy: 0.9669 - val_loss: 0.2246 - val_accuracy: 0.9712\n",
            "Epoch 12/30\n",
            "19/20 [===========================>..] - ETA: 0s - loss: 0.1835 - accuracy: 0.9698\n",
            "Epoch 12: val_loss improved from 0.22460 to 0.20398, saving model to model.h5\n",
            "20/20 [==============================] - 1s 42ms/step - loss: 0.1836 - accuracy: 0.9697 - val_loss: 0.2040 - val_accuracy: 0.9746\n",
            "Epoch 13/30\n",
            "19/20 [===========================>..] - ETA: 0s - loss: 0.1664 - accuracy: 0.9717\n",
            "Epoch 13: val_loss improved from 0.20398 to 0.18673, saving model to model.h5\n",
            "20/20 [==============================] - 1s 45ms/step - loss: 0.1659 - accuracy: 0.9718 - val_loss: 0.1867 - val_accuracy: 0.9748\n",
            "Epoch 14/30\n",
            "19/20 [===========================>..] - ETA: 0s - loss: 0.1515 - accuracy: 0.9739\n",
            "Epoch 14: val_loss improved from 0.18673 to 0.17175, saving model to model.h5\n",
            "20/20 [==============================] - 1s 45ms/step - loss: 0.1512 - accuracy: 0.9740 - val_loss: 0.1718 - val_accuracy: 0.9780\n",
            "Epoch 15/30\n",
            "19/20 [===========================>..] - ETA: 0s - loss: 0.1388 - accuracy: 0.9754\n",
            "Epoch 15: val_loss improved from 0.17175 to 0.15941, saving model to model.h5\n",
            "20/20 [==============================] - 1s 43ms/step - loss: 0.1383 - accuracy: 0.9757 - val_loss: 0.1594 - val_accuracy: 0.9790\n",
            "Epoch 16/30\n",
            "20/20 [==============================] - ETA: 0s - loss: 0.1276 - accuracy: 0.9774\n",
            "Epoch 16: val_loss improved from 0.15941 to 0.14753, saving model to model.h5\n",
            "20/20 [==============================] - 1s 44ms/step - loss: 0.1276 - accuracy: 0.9774 - val_loss: 0.1475 - val_accuracy: 0.9798\n",
            "Epoch 17/30\n",
            "20/20 [==============================] - ETA: 0s - loss: 0.1183 - accuracy: 0.9785\n",
            "Epoch 17: val_loss improved from 0.14753 to 0.13883, saving model to model.h5\n",
            "20/20 [==============================] - 1s 46ms/step - loss: 0.1183 - accuracy: 0.9785 - val_loss: 0.1388 - val_accuracy: 0.9798\n",
            "Epoch 18/30\n",
            "19/20 [===========================>..] - ETA: 0s - loss: 0.1099 - accuracy: 0.9797\n",
            "Epoch 18: val_loss improved from 0.13883 to 0.12942, saving model to model.h5\n",
            "20/20 [==============================] - 1s 50ms/step - loss: 0.1103 - accuracy: 0.9796 - val_loss: 0.1294 - val_accuracy: 0.9802\n",
            "Epoch 19/30\n",
            "20/20 [==============================] - ETA: 0s - loss: 0.1033 - accuracy: 0.9807\n",
            "Epoch 19: val_loss improved from 0.12942 to 0.12263, saving model to model.h5\n",
            "20/20 [==============================] - 1s 56ms/step - loss: 0.1033 - accuracy: 0.9807 - val_loss: 0.1226 - val_accuracy: 0.9802\n",
            "Epoch 20/30\n",
            "19/20 [===========================>..] - ETA: 0s - loss: 0.0972 - accuracy: 0.9815\n",
            "Epoch 20: val_loss improved from 0.12263 to 0.11653, saving model to model.h5\n",
            "20/20 [==============================] - 1s 50ms/step - loss: 0.0973 - accuracy: 0.9814 - val_loss: 0.1165 - val_accuracy: 0.9811\n",
            "Epoch 21/30\n",
            "19/20 [===========================>..] - ETA: 0s - loss: 0.0924 - accuracy: 0.9824\n",
            "Epoch 21: val_loss improved from 0.11653 to 0.11239, saving model to model.h5\n",
            "20/20 [==============================] - 1s 48ms/step - loss: 0.0918 - accuracy: 0.9826 - val_loss: 0.1124 - val_accuracy: 0.9803\n",
            "Epoch 22/30\n",
            "19/20 [===========================>..] - ETA: 0s - loss: 0.0870 - accuracy: 0.9826\n",
            "Epoch 22: val_loss improved from 0.11239 to 0.10802, saving model to model.h5\n",
            "20/20 [==============================] - 1s 49ms/step - loss: 0.0873 - accuracy: 0.9825 - val_loss: 0.1080 - val_accuracy: 0.9815\n",
            "Epoch 23/30\n",
            "20/20 [==============================] - ETA: 0s - loss: 0.0828 - accuracy: 0.9836\n",
            "Epoch 23: val_loss improved from 0.10802 to 0.10091, saving model to model.h5\n",
            "20/20 [==============================] - 1s 49ms/step - loss: 0.0828 - accuracy: 0.9836 - val_loss: 0.1009 - val_accuracy: 0.9817\n",
            "Epoch 24/30\n",
            "19/20 [===========================>..] - ETA: 0s - loss: 0.0791 - accuracy: 0.9841\n",
            "Epoch 24: val_loss improved from 0.10091 to 0.09743, saving model to model.h5\n",
            "20/20 [==============================] - 1s 44ms/step - loss: 0.0789 - accuracy: 0.9841 - val_loss: 0.0974 - val_accuracy: 0.9819\n",
            "Epoch 25/30\n",
            "19/20 [===========================>..] - ETA: 0s - loss: 0.0750 - accuracy: 0.9847\n",
            "Epoch 25: val_loss improved from 0.09743 to 0.09512, saving model to model.h5\n",
            "20/20 [==============================] - 1s 53ms/step - loss: 0.0753 - accuracy: 0.9845 - val_loss: 0.0951 - val_accuracy: 0.9821\n",
            "Epoch 26/30\n",
            "19/20 [===========================>..] - ETA: 0s - loss: 0.0723 - accuracy: 0.9846\n",
            "Epoch 26: val_loss improved from 0.09512 to 0.08990, saving model to model.h5\n",
            "20/20 [==============================] - 1s 46ms/step - loss: 0.0722 - accuracy: 0.9846 - val_loss: 0.0899 - val_accuracy: 0.9827\n",
            "Epoch 27/30\n",
            "19/20 [===========================>..] - ETA: 0s - loss: 0.0695 - accuracy: 0.9856\n",
            "Epoch 27: val_loss improved from 0.08990 to 0.08890, saving model to model.h5\n",
            "20/20 [==============================] - 1s 44ms/step - loss: 0.0691 - accuracy: 0.9855 - val_loss: 0.0889 - val_accuracy: 0.9825\n",
            "Epoch 28/30\n",
            "19/20 [===========================>..] - ETA: 0s - loss: 0.0664 - accuracy: 0.9860\n",
            "Epoch 28: val_loss improved from 0.08890 to 0.08453, saving model to model.h5\n",
            "20/20 [==============================] - 1s 47ms/step - loss: 0.0666 - accuracy: 0.9858 - val_loss: 0.0845 - val_accuracy: 0.9829\n",
            "Epoch 29/30\n",
            "20/20 [==============================] - ETA: 0s - loss: 0.0639 - accuracy: 0.9864\n",
            "Epoch 29: val_loss improved from 0.08453 to 0.08280, saving model to model.h5\n",
            "20/20 [==============================] - 1s 52ms/step - loss: 0.0639 - accuracy: 0.9864 - val_loss: 0.0828 - val_accuracy: 0.9825\n",
            "Epoch 30/30\n",
            "20/20 [==============================] - ETA: 0s - loss: 0.0617 - accuracy: 0.9868\n",
            "Epoch 30: val_loss improved from 0.08280 to 0.07946, saving model to model.h5\n",
            "20/20 [==============================] - 1s 46ms/step - loss: 0.0617 - accuracy: 0.9868 - val_loss: 0.0795 - val_accuracy: 0.9831\n"
          ]
        },
        {
          "output_type": "execute_result",
          "data": {
            "text/plain": [
              "<keras.callbacks.History at 0x7ff9bc145350>"
            ]
          },
          "metadata": {},
          "execution_count": 17
        }
      ],
      "source": [
        "BATCH_SIZE = 1024\n",
        "N_EPOCHS = 30\n",
        "\n",
        "model.fit(X_train, y_train,\n",
        "          batch_size=BATCH_SIZE, epochs=N_EPOCHS,\n",
        "          validation_data=(X_test, y_test), callbacks=callbacks)\n"
      ]
    },
    {
      "cell_type": "code",
      "source": [
        "model.save('model_lastest.h5')\n"
      ],
      "metadata": {
        "id": "YVm3lCeNCoJd"
      },
      "execution_count": 18,
      "outputs": []
    },
    {
      "cell_type": "markdown",
      "metadata": {
        "id": "wfA3sZLm6_ct"
      },
      "source": [
        "## Confusion Matrix"
      ]
    },
    {
      "cell_type": "code",
      "execution_count": 19,
      "metadata": {
        "colab": {
          "base_uri": "https://localhost:8080/",
          "height": 861
        },
        "id": "yiYRwX2D6_ct",
        "outputId": "afddb9a3-146e-49f4-d3ff-456b0f94da56"
      },
      "outputs": [
        {
          "output_type": "display_data",
          "data": {
            "image/png": "[encoded data removed]",
            "text/plain": [
              "<Figure size 1152x1008 with 2 Axes>"
            ]
          },
          "metadata": {
            "needs_background": "light"
          }
        }
      ],
      "source": [
        "y_pred_ohe = model.predict(X_test)\n",
        "y_pred_labels = np.argmax(y_pred_ohe, axis=1)\n",
        "y_true_labels = np.argmax(y_test, axis=1)\n",
        "confusion_matrix = metrics.confusion_matrix(y_true=y_true_labels, y_pred=y_pred_labels)\n",
        "\n",
        "LABELS = ['Biking' ,' Downstairs', 'Jogging', 'Sitting', 'Standing', 'Upstairs', 'Walking']\n",
        "\n",
        "plt.figure(figsize=(16, 14))\n",
        "sns.set(style='whitegrid', palette='muted', font_scale=1.5)\n",
        "sns.heatmap(confusion_matrix, xticklabels=LABELS, yticklabels=LABELS, annot=True, fmt=\"d\");\n",
        "plt.title(\"Confusion matrix\")\n",
        "plt.ylabel('True label')\n",
        "plt.xlabel('Predicted label')\n",
        "plt.show();\n"
      ]
    },
    {
      "cell_type": "markdown",
      "metadata": {
        "id": "bL-NtMnV6_cv"
      },
      "source": [
        "## Exporting the model "
      ]
    },
    {
      "cell_type": "markdown",
      "metadata": {
        "id": "20Yg18vA6_cv"
      },
      "source": [
        "a fused TFLite LSTM model"
      ]
    },
    {
      "cell_type": "code",
      "execution_count": 20,
      "metadata": {
        "colab": {
          "base_uri": "https://localhost:8080/"
        },
        "id": "uCf7Loax6_cv",
        "outputId": "e7b6c1c7-b780-4dcd-c393-b58aae014c36"
      },
      "outputs": [
        {
          "output_type": "stream",
          "name": "stderr",
          "text": [
            "WARNING:absl:Found untraced functions such as lstm_cell_layer_call_fn, lstm_cell_layer_call_and_return_conditional_losses while saving (showing 2 of 2). These functions will not be directly callable after loading.\n"
          ]
        },
        {
          "output_type": "stream",
          "name": "stdout",
          "text": [
            "INFO:tensorflow:Assets written to: keras_lstm/assets\n"
          ]
        },
        {
          "output_type": "stream",
          "name": "stderr",
          "text": [
            "INFO:tensorflow:Assets written to: keras_lstm/assets\n",
            "WARNING:absl:<keras.layers.recurrent.LSTMCell object at 0x7ff9be393e10> has the same name 'LSTMCell' as a built-in Keras object. Consider renaming <class 'keras.layers.recurrent.LSTMCell'> to avoid naming conflicts when loading with `tf.keras.models.load_model`. If renaming is not possible, pass the object in the `custom_objects` parameter of the load function.\n"
          ]
        }
      ],
      "source": [
        "run_model = tf.function(lambda x: model(x))\n",
        "# This is important, let's fix the input size.\n",
        "BATCH_SIZE = 1\n",
        "STEPS = 100\n",
        "INPUT_SIZE = 12\n",
        "concrete_func = run_model.get_concrete_function(\n",
        "    tf.TensorSpec([BATCH_SIZE, STEPS, INPUT_SIZE], model.inputs[0].dtype))\n",
        "\n",
        "# model directory.\n",
        "MODEL_DIR = \"keras_lstm\"\n",
        "model.save(MODEL_DIR, save_format=\"tf\", signatures=concrete_func)\n",
        "\n",
        "converter = tf.lite.TFLiteConverter.from_saved_model(MODEL_DIR)\n",
        "tflite_model = converter.convert()\n"
      ]
    },
    {
      "cell_type": "code",
      "source": [
        "# Save the model.\n",
        "with open('model_LSTM.tflite', 'wb') as f:\n",
        "  f.write(tflite_model)\n",
        "  "
      ],
      "metadata": {
        "id": "uobIiYSZDQ9L"
      },
      "execution_count": 21,
      "outputs": []
    },
    {
      "cell_type": "code",
      "source": [
        "# Save the model.\n",
        "with open('model_LSTM_Metadata.tflite', 'wb') as f:\n",
        "  f.write(tflite_model)\n",
        "  "
      ],
      "metadata": {
        "id": "LKAHAHBKDW2d"
      },
      "execution_count": 22,
      "outputs": []
    },
    {
      "cell_type": "markdown",
      "source": [
        "**Adding metadata to TensorFlow Lite models**\n",
        "\n"
      ],
      "metadata": {
        "id": "PGfOfjE2Da8V"
      }
    },
    {
      "cell_type": "code",
      "execution_count": 23,
      "metadata": {
        "id": "55RLiCIG6_cw"
      },
      "outputs": [],
      "source": [
        "from tflite_support import flatbuffers\n",
        "from tflite_support import metadata as _metadata\n",
        "from tflite_support import metadata_schema_py_generated as _metadata_fb\n"
      ]
    },
    {
      "cell_type": "code",
      "source": [
        "# Creates model info.\n",
        "model_meta = _metadata_fb.ModelMetadataT()\n",
        "model_meta.name = \"Human Activity Recognition\"\n",
        "model_meta.description = (\"input[None, 100, 3] \"\n",
        "                          \"is Sensor \"\n",
        "                          \"output['Biking' ,' Downstairs', 'Jogging', 'Sitting', 'Standing', 'Upstairs', 'Walking']\")\n",
        "model_meta.version = \"v3.100.3\"\n",
        "model_meta.author = \"phuoctan4141\"\n",
        "model_meta.license = (\"Apache License. Version 2.0 \"\n",
        "                      \"http://www.apache.org/licenses/LICENSE-2.0.\")\n"
      ],
      "metadata": {
        "id": "8XZQ6w3zD1Dj"
      },
      "execution_count": 24,
      "outputs": []
    },
    {
      "cell_type": "code",
      "source": [
        "# Creates input info.\n",
        "input_meta = _metadata_fb.TensorMetadataT()\n",
        "\n",
        "input_meta.name = 'inputSensor'\n",
        "input_meta.description = (\n",
        "    \"Input is array data from sensor with 100steps\".format(100, 3))\n",
        "input_stats = _metadata_fb.StatsT()\n",
        "input_meta.stats = input_stats\n"
      ],
      "metadata": {
        "id": "kMNqMvUyECVp"
      },
      "execution_count": 25,
      "outputs": []
    },
    {
      "cell_type": "code",
      "source": [
        "labelmap_file = '/content/labelmap.txt'\n",
        "\n",
        "export_model_path = '/content/model_LSTM_Metadata.tflite'"
      ],
      "metadata": {
        "id": "ve9D5G9UEGYw"
      },
      "execution_count": 26,
      "outputs": []
    },
    {
      "cell_type": "code",
      "source": [
        "import os\n",
        "# Creates output info.\n",
        "output_meta = _metadata_fb.TensorMetadataT()\n",
        "\n",
        "output_meta.name = \"probability\"\n",
        "output_meta.description = \"Probabilities of the 7 labels respectively.\"\n",
        "output_meta.content = _metadata_fb.ContentT()\n",
        "output_meta.content.content_properties = _metadata_fb.FeaturePropertiesT()\n",
        "output_meta.content.contentPropertiesType = (\n",
        "    _metadata_fb.ContentProperties.FeatureProperties)\n",
        "label_file = _metadata_fb.AssociatedFileT()\n",
        "label_file.name = os.path.basename(labelmap_file)\n",
        "label_file.description = \"Labels for objects that the model can recognize.\"\n",
        "label_file.type = _metadata_fb.AssociatedFileType.TENSOR_AXIS_LABELS\n",
        "output_meta.associatedFiles = [label_file]\n"
      ],
      "metadata": {
        "id": "Cu4aezrtEKDG"
      },
      "execution_count": 27,
      "outputs": []
    },
    {
      "cell_type": "code",
      "source": [
        "# Creates subgraph info.\n",
        "subgraph = _metadata_fb.SubGraphMetadataT()\n",
        "subgraph.inputTensorMetadata = [input_meta]\n",
        "subgraph.outputTensorMetadata = [output_meta]\n",
        "model_meta.subgraphMetadata = [subgraph]\n",
        "\n",
        "b = flatbuffers.Builder(0)\n",
        "b.Finish(\n",
        "    model_meta.Pack(b),\n",
        "    _metadata.MetadataPopulator.METADATA_FILE_IDENTIFIER)\n",
        "metadata_buf = b.Output()\n"
      ],
      "metadata": {
        "id": "agPjs_yOEME8"
      },
      "execution_count": 28,
      "outputs": []
    },
    {
      "cell_type": "code",
      "source": [
        "# Pack metadata and associated files into the model\n",
        "populator = _metadata.MetadataPopulator.with_model_file(export_model_path)\n",
        "populator.load_metadata_buffer(metadata_buf)\n",
        "populator.load_associated_files([labelmap_file])\n",
        "populator.populate()\n"
      ],
      "metadata": {
        "id": "schpDyhLEOBc"
      },
      "execution_count": 29,
      "outputs": []
    },
    {
      "cell_type": "markdown",
      "source": [
        "TEST TFLITE"
      ],
      "metadata": {
        "id": "JBPUOQCYDo-O"
      }
    },
    {
      "cell_type": "code",
      "source": [
        "# X_train,X_test, y_train,y_test\n",
        "# Run the model with TensorFlow to get expected results.\n",
        "TEST_CASES = 10\n",
        "\n",
        "# Run the model with TensorFlow Lite\n",
        "interpreter = tf.lite.Interpreter(model_content=tflite_model)\n",
        "interpreter.allocate_tensors()\n",
        "input_details = interpreter.get_input_details()\n",
        "output_details = interpreter.get_output_details()\n",
        "\n",
        "for i in range(TEST_CASES):\n",
        "  expected = model.predict(X_test[i:i+1])\n",
        "  interpreter.set_tensor(input_details[0][\"index\"], X_test[i:i+1, :, :])\n",
        "  interpreter.invoke()\n",
        "  result = interpreter.get_tensor(output_details[0][\"index\"])\n",
        "\n",
        "  # Assert if the result of TFLite model is consistent with the TF model.\n",
        "  np.testing.assert_almost_equal(expected, result, decimal=5)\n",
        "  print(\"Done. The result of TensorFlow matches the result of TensorFlow Lite.\")\n",
        "\n",
        "  # Please note: TfLite fused Lstm kernel is stateful, so we need to reset\n",
        "  # the states.\n",
        "  # Clean up internal states.\n",
        "  interpreter.reset_all_variables()"
      ],
      "metadata": {
        "colab": {
          "base_uri": "https://localhost:8080/"
        },
        "id": "AgnnGdWHDp19",
        "outputId": "f03dc02b-5e13-4622-c02a-0600a8d55fd6"
      },
      "execution_count": 38,
      "outputs": [
        {
          "output_type": "stream",
          "name": "stdout",
          "text": [
            "Done. The result of TensorFlow matches the result of TensorFlow Lite.\n",
            "Done. The result of TensorFlow matches the result of TensorFlow Lite.\n",
            "Done. The result of TensorFlow matches the result of TensorFlow Lite.\n",
            "Done. The result of TensorFlow matches the result of TensorFlow Lite.\n",
            "Done. The result of TensorFlow matches the result of TensorFlow Lite.\n",
            "Done. The result of TensorFlow matches the result of TensorFlow Lite.\n",
            "Done. The result of TensorFlow matches the result of TensorFlow Lite.\n",
            "Done. The result of TensorFlow matches the result of TensorFlow Lite.\n",
            "Done. The result of TensorFlow matches the result of TensorFlow Lite.\n",
            "Done. The result of TensorFlow matches the result of TensorFlow Lite.\n"
          ]
        }
      ]
    }
  ],
  "metadata": {
    "kernelspec": {
      "display_name": "Python 3",
      "language": "python",
      "name": "python3"
    },
    "language_info": {
      "codemirror_mode": {
        "name": "ipython",
        "version": 3
      },
      "file_extension": ".py",
      "mimetype": "text/x-python",
      "name": "python",
      "nbconvert_exporter": "python",
      "pygments_lexer": "ipython3",
      "version": "3.6.8"
    },
    "colab": {
      "name": "Human-Activity-Recognition-TFLITE.ipynb",
      "provenance": [],
      "collapsed_sections": []
    },
    "accelerator": "GPU"
  },
  "nbformat": 4,
  "nbformat_minor": 0
}